{
 "cells": [
  {
   "cell_type": "code",
   "execution_count": 1,
   "id": "1280168c-1a38-47ba-84f0-600328af5ce1",
   "metadata": {},
   "outputs": [],
   "source": [
    "import os\n",
    "import cv2"
   ]
  },
  {
   "cell_type": "code",
   "execution_count": 4,
   "id": "7c6b5843-8a14-4c8f-84df-830df01f0ccb",
   "metadata": {},
   "outputs": [],
   "source": [
    "def resize_and_save_images(input_folder, output_folder):\n",
    "    # Ensure output folder exists, create it if not\n",
    "    if not os.path.exists(output_folder):\n",
    "        os.makedirs(output_folder)\n",
    "\n",
    "    # Get a list of all image files in the input folder\n",
    "    image_files = [f for f in os.listdir(input_folder) if f.lower().endswith(('.png', '.jpg', '.jpeg', '.bmp'))]\n",
    "\n",
    "    # Resize and save each image\n",
    "    for idx, image_file in enumerate(image_files, start=21):\n",
    "        # Read the original image\n",
    "        image_path = os.path.join(input_folder, image_file)\n",
    "        original_image = cv2.imread(image_path)\n",
    "\n",
    "        # Resize the image to 512x512\n",
    "        resized_image = cv2.resize(original_image, (512, 512))\n",
    "\n",
    "        # Save the resized image with the new index as the filename\n",
    "        output_path = os.path.join(output_folder, f'{idx}.png')\n",
    "        cv2.imwrite(output_path, resized_image)\n",
    "\n",
    "        print(f\"Image {image_file} resized and saved as {idx}.png\")\n"
   ]
  },
  {
   "cell_type": "code",
   "execution_count": 5,
   "id": "f13cc195-3be8-4804-aa3c-7210cfb93bf5",
   "metadata": {},
   "outputs": [
    {
     "name": "stdout",
     "output_type": "stream",
     "text": [
      "Image cfa65517571f49511929d98e20d7bc32.jpg resized and saved as 21.png\n",
      "Image bbf15887bc744ba69146adf9ffdfe74a.jpg resized and saved as 22.png\n",
      "Image 1a78e7a9726f9d876b708b0851fd1d29.jpg resized and saved as 23.png\n",
      "Image 6b2f069ea37ad4f2bf0297cea2162975.jpg resized and saved as 24.png\n",
      "Image 6697954221c93c207ccaa42dcd768fae.jpg resized and saved as 25.png\n",
      "Image 270af2cb0945f282c7bf50fa005f6274.jpg resized and saved as 26.png\n",
      "Image 3963b61b9f66b1fdb05fe4d19b5037cc.jpg resized and saved as 27.png\n",
      "Image a8902c69979b168c3be18a5c4cb7bdf9.jpg resized and saved as 28.png\n",
      "Image 0347a6a3527a18ae134214f2d79eb0e2.jpg resized and saved as 29.png\n",
      "Image 81d194d2ae3be602e9bccd39707963d7.jpg resized and saved as 30.png\n",
      "Image ac430083b11aa5d8109e3a401e1f1b4a.jpg resized and saved as 31.png\n",
      "Image a77064eb3302a889b0f49967e7fb1059.jpg resized and saved as 32.png\n",
      "Image 98e7ac9663cb24db07677da5a8949a14.jpg resized and saved as 33.png\n",
      "Image acbdbc67977d9082e0c463c997a82856.jpg resized and saved as 34.png\n",
      "Image 293e1251b213d4721609a2f7ff28d35a.jpg resized and saved as 35.png\n",
      "Image c7eea6d4472562747efa5073ac4d7c35.jpg resized and saved as 36.png\n",
      "Image 120b40c149fcd761cfc4f5ef4225c9aa.jpg resized and saved as 37.png\n"
     ]
    }
   ],
   "source": [
    "# Replace 'input_folder' and 'output_folder' with your actual paths\n",
    "input_folder = '/Users/oyil/Documents/tk photos'\n",
    "output_folder = '/Users/oyil/Documents/tk photos/resized'\n",
    "\n",
    "resize_and_save_images(input_folder, output_folder)\n"
   ]
  },
  {
   "cell_type": "code",
   "execution_count": null,
   "id": "db7a3111-143e-4a48-8677-3c75eabaff85",
   "metadata": {},
   "outputs": [],
   "source": []
  }
 ],
 "metadata": {
  "kernelspec": {
   "display_name": "Python 3 (ipykernel)",
   "language": "python",
   "name": "python3"
  },
  "language_info": {
   "codemirror_mode": {
    "name": "ipython",
    "version": 3
   },
   "file_extension": ".py",
   "mimetype": "text/x-python",
   "name": "python",
   "nbconvert_exporter": "python",
   "pygments_lexer": "ipython3",
   "version": "3.10.12"
  }
 },
 "nbformat": 4,
 "nbformat_minor": 5
}
